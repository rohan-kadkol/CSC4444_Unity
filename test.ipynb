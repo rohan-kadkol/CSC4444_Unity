{
 "cells": [
  {
   "cell_type": "code",
   "execution_count": 2,
   "metadata": {},
   "outputs": [],
   "source": [
    "import mlagents\n",
    "import random\n",
    "import numpy as np\n",
    "from mlagents_envs.environment import UnityEnvironment as UE"
   ]
  },
  {
   "cell_type": "code",
   "execution_count": 3,
   "metadata": {},
   "outputs": [],
   "source": [
    "env = UE(file_name=\"4444_project\",seed=1,side_channels=[])\n",
    "env.reset()"
   ]
  },
  {
   "cell_type": "code",
   "execution_count": 4,
   "metadata": {},
   "outputs": [
    {
     "name": "stdout",
     "output_type": "stream",
     "text": [
      "['CarBehavior?team=0']\n",
      "CarBehavior?team=0\n"
     ]
    }
   ],
   "source": [
    "print(list(env.behavior_specs))\n",
    "behavior_name = list(env.behavior_specs)[0]\n",
    "print(behavior_name)"
   ]
  },
  {
   "cell_type": "code",
   "execution_count": 5,
   "metadata": {},
   "outputs": [
    {
     "name": "stdout",
     "output_type": "stream",
     "text": [
      "<class 'mlagents_envs.base_env.BehaviorSpec'>\n",
      "\n",
      "BehaviorSpec(observation_specs=[ObservationSpec(shape=(8,), dimension_property=(<DimensionProperty.NONE: 1>,), observation_type=<ObservationType.DEFAULT: 0>, name='VectorSensor_size8')], action_spec=ActionSpec(continuous_size=1, discrete_branches=()))\n"
     ]
    }
   ],
   "source": [
    "print(type(env.behavior_specs[behavior_name]))\n",
    "print()\n",
    "print(env.behavior_specs[behavior_name])\n",
    "spec = env.behavior_specs[behavior_name]"
   ]
  },
  {
   "cell_type": "code",
   "execution_count": 6,
   "metadata": {},
   "outputs": [
    {
     "name": "stdout",
     "output_type": "stream",
     "text": [
      "<class 'list'>\n",
      "\n",
      "<class 'tuple'>\n",
      "ObservationSpec(shape=(8,), dimension_property=(<DimensionProperty.NONE: 1>,), observation_type=<ObservationType.DEFAULT: 0>, name='VectorSensor_size8')\n"
     ]
    }
   ],
   "source": [
    "print(type(spec.observation_specs))\n",
    "print()\n",
    "print(type(tuple(spec.observation_specs[0])))\n",
    "print(spec.observation_specs[0])"
   ]
  },
  {
   "cell_type": "code",
   "execution_count": 7,
   "metadata": {},
   "outputs": [
    {
     "name": "stdout",
     "output_type": "stream",
     "text": [
      "<class 'mlagents_envs.base_env.ActionSpec'>\n",
      "\n",
      "Continuous: 1, Discrete: ()\n"
     ]
    }
   ],
   "source": [
    "print(type(spec.action_spec))\n",
    "print()\n",
    "print(spec.action_spec)"
   ]
  },
  {
   "cell_type": "code",
   "execution_count": 8,
   "metadata": {},
   "outputs": [],
   "source": [
    "decision_steps, terminal_steps = env.get_steps(behavior_name)"
   ]
  },
  {
   "cell_type": "code",
   "execution_count": 9,
   "metadata": {},
   "outputs": [
    {
     "name": "stdout",
     "output_type": "stream",
     "text": [
      "<mlagents_envs.base_env.DecisionSteps object at 0x000001FFDA1C91D0>\n",
      "[0]\n"
     ]
    }
   ],
   "source": [
    "print(decision_steps)\n",
    "print(list(decision_steps))"
   ]
  },
  {
   "cell_type": "code",
   "execution_count": 10,
   "metadata": {},
   "outputs": [
    {
     "name": "stdout",
     "output_type": "stream",
     "text": [
      "<class 'numpy.ndarray'>\n"
     ]
    }
   ],
   "source": [
    "tracked_agent = -1\n",
    "done = False\n",
    "episode_rewards = 0\n",
    "\n",
    "print(type(decision_steps.agent_id))\n",
    "tracked_agent = decision_steps.agent_id[0]"
   ]
  },
  {
   "cell_type": "code",
   "execution_count": 11,
   "metadata": {},
   "outputs": [
    {
     "name": "stdout",
     "output_type": "stream",
     "text": [
      "<mlagents_envs.base_env.ActionTuple object at 0x000001FFDA1C96A0>\n",
      "<class 'numpy.ndarray'>\n",
      "[]\n"
     ]
    }
   ],
   "source": [
    "action = spec.action_spec.random_action(len(decision_steps))\n",
    "print(action)\n",
    "print(type(action.discrete))\n",
    "print(action.discrete)\n",
    "# action = action.continuous"
   ]
  },
  {
   "cell_type": "code",
   "execution_count": 12,
   "metadata": {},
   "outputs": [],
   "source": [
    "env.set_actions(behavior_name, action)"
   ]
  },
  {
   "cell_type": "code",
   "execution_count": 14,
   "metadata": {},
   "outputs": [
    {
     "name": "stderr",
     "output_type": "stream",
     "text": [
      "\r",
      "  0%|          | 0/30 [00:00<?, ?it/s]"
     ]
    },
    {
     "name": "stdout",
     "output_type": "stream",
     "text": [
      "[array([[ 4.1899934, -0.3924   , 19.556175 , -1.       ,  7.623163 ,\n",
      "         8.690312 , 11.358073 , 11.290971 ]], dtype=float32)]\n",
      "[array([[ 2.1228652, -0.5886   , 19.887016 , -1.       ,  7.6976647,\n",
      "         8.781966 , 12.933514 , 10.396062 ]], dtype=float32)]\n",
      "[array([[ 0.03247886, -0.7848    , 19.999973  , 28.542267  ,  7.979289  ,\n",
      "         8.929262  , 15.18194   ,  9.678803  ]], dtype=float32)]\n",
      "[array([[-2.0582633, -0.981    , 19.893806 , -1.       ,  7.9153633,\n",
      "         8.586748 , 13.134513 , 10.159246 ]], dtype=float32)]\n",
      "[array([[ 0.03247885, -1.1772    , 19.999973  , 32.27882   ,  8.017331  ,\n",
      "         8.572267  , 13.891187  ,  9.841566  ]], dtype=float32)]\n",
      "[array([[-0.66553164, -1.3734    , 19.988922  , 29.496355  ,  8.144545  ,\n",
      "         8.5539055 , 14.771752  ,  9.533302  ]], dtype=float32)]\n",
      "[array([[-1.3627315, -1.5696   , 19.95352  , -1.       ,  8.093417 ,\n",
      "         8.261795 , 12.899646 , 10.06879  ]], dtype=float32)]\n",
      "[array([[ 0.73044264, -1.7658    , 19.986656  , 28.783821  ,  8.274495  ,\n",
      "         8.382238  , 15.013098  ,  9.337365  ]], dtype=float32)]\n",
      "[array([[-1.3627313, -1.962    , 19.95352  , 23.33253  ,  8.600708 ,\n",
      "         8.560748 , 18.244577 ,  8.741165 ]], dtype=float32)]\n",
      "[array([[-3.4409752, -2.1582   , 19.701769 , 24.34716  ,  8.638552 ,\n",
      "         8.301494 , 17.332901 ,  8.721643 ]], dtype=float32)]\n",
      "[array([[-2.7512956, -2.3544   , 19.809855 , 25.554743 ,  8.672338 ,\n",
      "         8.072059 , 16.524477 ,  8.727023 ]], dtype=float32)]\n",
      "[array([[-2.0582633, -2.5505998, 19.893806 , 23.567905 ,  8.909854 ,\n",
      "         8.040086 , 17.776146 ,  8.442469 ]], dtype=float32)]\n",
      "[array([[-2.7512956, -2.7467997, 19.809855 , 24.72272  ,  8.941944 ,\n",
      "         7.81351  , 16.94161  ,  8.442791 ]], dtype=float32)]\n",
      "[array([[-2.0582633, -2.9429996, 19.893806 , 26.106699 ,  8.970521 ,\n",
      "         7.6148324, 17.222372 ,  8.468829 ]], dtype=float32)]\n",
      "[array([[-1.3627242, -3.1391995, 19.95352  , 27.778215 ,  8.995732 ,\n",
      "         7.442761 , 16.352896 ,  8.522186 ]], dtype=float32)]\n",
      "[array([[-0.46782824,  0.07044601, 15.8711815 , -1.        ,  8.87974   ,\n",
      "         7.2341228 , 14.329586  ,  9.074265  ]], dtype=float32)]\n",
      "[array([[ 1.3627177 ,  0.05840695, 19.730137  , -1.        ,  8.889273  ,\n",
      "         7.128774  , 12.778033  ,  9.8647375 ]], dtype=float32)]\n",
      "[array([[ 3.4505322 ,  0.07492404, 19.438616  , -1.        ,  8.949569  ,\n",
      "         7.1758842 , 14.410235  ,  9.001785  ]], dtype=float32)]\n",
      "[array([[1.4094383e+00, 1.7054081e-03, 1.9801125e+01, 2.6672106e+01,\n",
      "        9.1072922e+00, 7.2617655e+00, 1.6805613e+01, 8.3114815e+00]],\n",
      "      dtype=float32)]\n",
      "[array([[-0.6688013 , -0.09987075, 19.875023  , 21.225586  ,  9.416775  ,\n",
      "         7.390522  , 20.47352   ,  7.74581   ]], dtype=float32)]\n",
      "[array([[-2.7048092 ,  0.08643791, 19.34855   , 25.794928  ,  9.294139  ,\n",
      "         7.036498  , 17.203476  ,  8.053754  ]], dtype=float32)]\n",
      "[array([[-0.66820216,  0.07738632, 19.762291  , 25.401031  ,  9.367784  ,\n",
      "         6.9434643 , 17.366274  ,  7.947374  ]], dtype=float32)]\n",
      "[array([[-0.66901857,  0.05538444, 19.778404  , 27.23658   ,  9.386077  ,\n",
      "         6.7986355 , 16.620218  ,  8.018949  ]], dtype=float32)]\n",
      "[array([[ 6.2791742e-03,  8.7275431e-02,  1.9723518e+01, -1.0000000e+00,\n",
      "         9.3489056e+00,  6.6194515e+00,  1.4559300e+01,  8.5730648e+00]],\n",
      "      dtype=float32)]\n",
      "[array([[2.1006684e+00, 1.3124973e-02, 1.9740639e+01, 2.6560934e+01,\n",
      "        9.4628668e+00, 6.6837873e+00, 1.6806870e+01, 7.8837690e+00]],\n",
      "      dtype=float32)]\n",
      "[array([[ 2.5446052e-02, -4.9283057e-03,  1.9784697e+01,  2.4023363e+01,\n",
      "        -1.0000000e+00,  6.6553016e+00,  1.7458944e+01,  7.6179619e+00]],\n",
      "      dtype=float32)]\n",
      "[array([[-0.66566163,  0.07928187, 19.649384  , 23.632345  , -1.        ,\n",
      "         6.562896  , 18.025434  ,  7.5123296 ]], dtype=float32)]\n",
      "[array([[-0.67831004,  0.10841192, 19.714617  , 31.689392  ,  9.590348  ,\n",
      "         6.3491893 , 15.676188  ,  8.56978   ]], dtype=float32)]\n",
      "[array([[ 1.3888097,  0.070568 , 19.759516 , -1.       ,  9.594234 ,\n",
      "         6.250366 , 13.973971 ,  9.3097725]], dtype=float32)]\n",
      "[array([[ 3.4485896,  0.099968 , 19.422623 , -1.       ,  9.5817795,\n",
      "         6.2503   , 14.508272 ,  9.003345 ]], dtype=float32)]\n",
      "[array([[ 2.7552767 ,  0.20516706, 19.436138  , -1.        ,  9.628996  ,\n",
      "         6.2256474 , 13.096123  ,  9.959163  ]], dtype=float32)]\n",
      "[array([[ 4.7946405,  0.2622884, 19.094826 , -1.       ,  9.74374  ,\n",
      "         6.311481 , 11.877894 , 11.858591 ]], dtype=float32)]\n",
      "[array([[ 6.7789774,  0.264827 , 18.555012 , -1.       ,  9.741483 ,\n",
      "         6.4109836, 11.496731 , 12.415047 ]], dtype=float32)]\n",
      "[array([[ 7.4550047,  0.2035534, 18.379778 , -1.       ,  9.423306 ,\n",
      "         6.3934317, 12.479001 , 11.112466 ]], dtype=float32)]\n",
      "[array([[ 5.4404006,  0.2701236, 18.90778  , -1.       ,  9.333067 ,\n",
      "         6.4106193, 12.768816 , 10.752821 ]], dtype=float32)]\n",
      "[array([[ 4.8769445 ,  0.14640471, 19.303926  , -1.        ,  9.244143  ,\n",
      "         6.430892  , 14.148716  ,  9.274078  ]], dtype=float32)]\n",
      "[array([[ 2.7989252 ,  0.14271826, 19.565418  , -1.        ,  9.246178  ,\n",
      "         6.4083285 , 14.139661  ,  9.252444  ]], dtype=float32)]\n",
      "[array([[ 2.827994  ,  0.19302872, 19.49354   , -1.        ,  9.248024  ,\n",
      "         6.3859816 , 13.844122  ,  9.712441  ]], dtype=float32)]\n",
      "[array([[ 2.857     ,  0.19555217, 19.548111  , -1.        ,  9.256051  ,\n",
      "         6.3570857 , 13.581885  ,  9.928115  ]], dtype=float32)]\n",
      "[array([[ 3.5678046 ,  0.20715533, 19.419281  , -1.        ,  9.332835  ,\n",
      "         6.856586  , 12.401772  , 10.884954  ]], dtype=float32)]\n",
      "[array([[ 5.552771  ,  0.29334906, 18.848501  , -1.        ,  9.480711  ,\n",
      "         6.998038  , 10.672773  , 12.154863  ]], dtype=float32)]\n",
      "[array([[ 7.521936 ,  0.3761655, 18.153835 , -1.       ,  9.700185 ,\n",
      "         7.2694235,  9.993861 , 13.774681 ]], dtype=float32)]\n",
      "[array([[ 9.483978  ,  0.35989764, 17.352394  , -1.        ,  9.439448  ,\n",
      "         7.3175645 , 10.006378  , 13.271868  ]], dtype=float32)]\n",
      "[array([[ 8.874873  ,  0.35382125, 17.657507  , -1.        ,  9.427825  ,\n",
      "         7.5047708 ,  9.700909  , 13.946166  ]], dtype=float32)]\n",
      "[array([[ 9.487515  ,  0.36837667, 17.306278  , -1.        ,  9.41434   ,\n",
      "         7.7196894 ,  9.40391   , 14.728779  ]], dtype=float32)]\n",
      "[array([[10.084606 ,  0.4332767, 16.890009 , -1.       ,  9.127422 ,\n",
      "         7.7674828,  9.381046 , 14.161915 ]], dtype=float32)]\n",
      "[array([[ 9.542303  ,  0.43128037, 17.298283  , -1.        ,  8.981535  ,\n",
      "         7.893229  ,  9.227286  , 14.257216  ]], dtype=float32)]\n",
      "[array([[ 9.604639  ,  0.34766147, 17.381697  , -1.        ,  8.957635  ,\n",
      "         8.476963  ,  8.936838  , 15.0532    ]], dtype=float32)]\n",
      "[array([[10.119694  ,  0.39506572, 16.895893  , -1.        ,  8.675656  ,\n",
      "         8.507727  ,  8.905209  , 14.472544  ]], dtype=float32)]\n",
      "[array([[ 9.55504   ,  0.38942677, 17.297215  , -1.        ,  8.424757  ,\n",
      "         8.534513  ,  8.896875  , 13.938817  ]], dtype=float32)]\n",
      "[array([[ 9.059803  ,  0.25489074, 17.744171  , -1.        ,  8.049547  ,\n",
      "         8.485896  , 10.134681  , 12.474534  ]], dtype=float32)]\n",
      "[array([[ 6.946634 ,  0.4065717, 18.287186 , -1.       ,  8.211866 ,\n",
      "         8.646173 ,  9.487463 , 14.041168 ]], dtype=float32)]\n",
      "[array([[ 8.99611  ,  0.3923527, 17.605873 , -1.       ,  8.080389 ,\n",
      "         8.723543 ,  9.186217 , 14.116754 ]], dtype=float32)]\n",
      "[array([[ 9.089291  ,  0.29573137, 17.675255  , -1.        ,  7.711296  ,\n",
      "         8.670042  ,  9.839887  , 12.625202  ]], dtype=float32)]\n",
      "[array([[ 7.073893  ,  0.38412213, 18.324808  , -1.        ,  7.6273837 ,\n",
      "         8.704042  ,  9.746364  , 12.641952  ]], dtype=float32)]\n",
      "[array([[ 7.1491876,  0.3892029, 18.407253 , -1.       ,  7.7734613,\n",
      "         8.87507  ,  9.05613  , 14.2359495]], dtype=float32)]\n",
      "[array([[ 8.990063  ,  0.46607387, 17.477352  , -1.        ,  7.977914  ,\n",
      "         9.166885  ,  8.3152    , 17.014715  ]], dtype=float32)]\n",
      "[array([[10.864699,  0.470627, 16.487928, -1.      ,  7.93593 ,  9.329517,\n",
      "         8.035437, 18.190628]], dtype=float32)]\n",
      "[array([[11.43955  ,  0.5098444, 16.039206 , -1.       ,  7.3785443,\n",
      "         9.233663 ,  8.408949 , 15.317513 ]], dtype=float32)]\n",
      "[array([[ 9.810693 ,  0.4043522, 17.29683  , -1.       ,  7.3309994,\n",
      "         9.345739 ,  8.13109  , 16.61278  ]], dtype=float32)]\n",
      "[array([[10.240262 ,  0.5074296, 16.735142 , -1.       ,  7.0664134,\n"
     ]
    },
    {
     "name": "stdout",
     "output_type": "stream",
     "text": [
      "         9.362449 ,  8.107953 , 15.96344  ]], dtype=float32)]\n",
      "[array([[ 9.881289  ,  0.35039955, 17.330824  , -1.        ,  6.674599  ,\n",
      "         9.327091  ,  9.203701  , 13.793875  ]], dtype=float32)]\n",
      "[array([[ 7.8710546,  0.3670001, 18.094313 , -1.       ,  6.641607 ,\n",
      "         9.361879 ,  8.902037 , 14.395889 ]], dtype=float32)]\n",
      "[array([[ 8.49504   ,  0.41821662, 17.759949  , -1.        ,  6.4555116 ,\n",
      "         9.37071   ,  8.88387   , 13.896679  ]], dtype=float32)]\n",
      "[array([[ 7.9498205 ,  0.37434775, 18.14194   , -1.        ,  6.5845327 ,\n",
      "         9.48522   ,  8.3568    , 16.258387  ]], dtype=float32)]\n",
      "[array([[ 9.728016 ,  0.518104 , 16.97764  , -1.       ,  6.4343596,\n",
      "         9.544513 ,  8.240864 , 16.373348 ]], dtype=float32)]\n",
      "[array([[ 9.8726845 ,  0.48750216, 17.150612  , -1.        ,  6.375293  ,\n",
      "         9.663374  ,  7.966131  , 17.325508  ]], dtype=float32)]\n",
      "[array([[10.414531 ,  0.5431042, 16.696585 , -1.       ,  6.308073 ,\n",
      "         9.8106785,  7.696833 , 18.101404 ]], dtype=float32)]\n",
      "[array([[11.062396 ,  0.5236298, 16.390446 , -1.       ,  6.489999 ,\n",
      "        10.203554 ,  7.2231345, 22.46992  ]], dtype=float32)]\n",
      "[array([[12.551023 ,  0.6949785, 14.954883 , -1.       ,  6.3964133,\n",
      "        10.4719715,  6.9634194, 23.256836 ]], dtype=float32)]\n",
      "[array([[13.274742 ,  0.6862641, 14.6334305, 13.895824 ,  6.6382127,\n",
      "        11.135495 ,  6.586887 , -1.       ]], dtype=float32)]\n",
      "[array([[14.578522  ,  0.83585596, 13.020324  , 12.291538  ,  6.510205  ,\n",
      "        11.550329  ,  6.3273115 , -1.        ]], dtype=float32)]\n",
      "[array([[15.4199295 ,  0.63965595, 12.736789  , 10.923112  ,  6.355705  ,\n",
      "        12.017447  ,  6.0601587 , -1.        ]], dtype=float32)]\n",
      "[array([[15.633973 ,  0.641794 , 12.058173 , 13.9203205,  6.388293 ,\n",
      "        11.588692 ,  5.939499 , -1.       ]], dtype=float32)]\n",
      "[array([[14.276233 ,  0.6654718, 13.599175 , 13.514509 ,  5.8292837,\n",
      "        11.77384  ,  5.597023 , -1.       ]], dtype=float32)]\n",
      "[array([[14.283542  ,  0.67100215, 13.624578  , -1.        ,  5.451438  ,\n",
      "        11.459171  ,  5.7019744 , 25.386217  ]], dtype=float32)]\n",
      "[array([[12.875953 ,  0.5792815, 15.128082 , -1.       ,  4.958116 ,\n",
      "        11.249526 ,  6.1876554, 21.204498 ]], dtype=float32)]\n",
      "[array([[11.185654 ,  0.5365575, 16.342173 , -1.       ,  5.2012596,\n",
      "        11.129597 ,  6.7624974, 18.254103 ]], dtype=float32)]\n",
      "[array([[ 9.351102 ,  0.5523802, 17.370459 , -1.       ,  5.1612973,\n",
      "        11.235268 ,  6.534435 , 19.3292   ]], dtype=float32)]\n",
      "[array([[10.028476 ,  0.5069431, 17.080204 , -1.       ,  5.0575476,\n",
      "        11.299728 ,  6.4588847, 19.487488 ]], dtype=float32)]\n",
      "[array([[ 9.985797  ,  0.53623366, 16.994226  , -1.        ,  5.007741  ,\n",
      "        11.437108  ,  6.2253456 , 20.55429   ]], dtype=float32)]\n",
      "[array([[10.470969  ,  0.70088166, 16.48594   , -1.        ,  5.0879035 ,\n",
      "        11.833386  ,  5.760854  , 25.850817  ]], dtype=float32)]\n",
      "[array([[12.312556 ,  0.6978332, 15.439696 , 11.601571 ,  5.1878066,\n",
      "        12.706025 ,  5.3141885, -1.       ]], dtype=float32)]\n",
      "[array([[13.893441 ,  0.7091688, 14.009249 , -1.       ,  4.59447  ,\n",
      "        12.38397  ,  5.4485474, 27.289265 ]], dtype=float32)]\n",
      "[array([[12.308635  ,  0.73938775, 15.385882  , -1.        ,  4.530331  ,\n",
      "        12.509877  ,  5.306252  , 27.970945  ]], dtype=float32)]\n",
      "[array([[12.393699  ,  0.71639645, 15.4077635 , -1.        ,  4.451575  ,\n",
      "        12.785751  ,  5.080638  , -1.        ]], dtype=float32)]\n",
      "[array([[12.840818  ,  0.79452246, 14.86059   ,  9.72134   ,  4.5209465 ,\n",
      "        13.506318  ,  4.73457   , -1.        ]], dtype=float32)]\n",
      "[array([[14.363275 ,  0.8442322, 13.447358 ,  9.801825 ,  4.194796 ,\n",
      "        13.480581 ,  4.601298 , -1.       ]], dtype=float32)]\n",
      "[array([[14.071305 ,  0.7433265, 14.036482 ,  9.394473 ,  4.220485 ,\n",
      "        13.65724  ,  4.167361 , -1.       ]], dtype=float32)]\n",
      "[array([[13.954817  ,  0.74266887, 13.967632  ,  8.53643   ,  4.1949644 ,\n",
      "        14.060749  ,  3.6237671 , -1.        ]], dtype=float32)]\n",
      "[array([[14.295115 ,  0.8778815, 13.352509 ,  7.1523128,  4.240252 ,\n",
      "        14.939034 ,  3.571718 , -1.       ]], dtype=float32)]\n",
      "[array([[15.775351 ,  0.9085574, 11.798853 ,  7.3169103,  4.0063095,\n",
      "        14.867665 ,  3.0392675, -1.       ]], dtype=float32)]\n",
      "[array([[15.462089  ,  0.84821546, 12.401272  ,  6.9140754 ,  3.8469133 ,\n",
      "        15.116828  ,  2.874976  , -1.        ]], dtype=float32)]\n",
      "[array([[15.217777  ,  0.99807227, 12.252146  ,  5.2326508 ,  3.8775506 ,\n",
      "        16.528114  ,  2.6151936 , -1.        ]], dtype=float32)]\n",
      "[array([[16.733185  ,  0.89767367, 10.720887  ,  6.015187  ,  3.4706924 ,\n",
      "        15.655551  ,  2.5078375 , -1.        ]], dtype=float32)]\n",
      "[array([[15.457278 ,  0.8685507, 12.341174 ,  6.1909904,  3.0525904,\n",
      "        15.010095 ,  2.4632406, -1.       ]], dtype=float32)]\n",
      "[array([[14.207913 ,  0.7237838, 13.980042 ,  7.6070113,  2.0920131,\n",
      "        14.738223 ,  2.4869652, -1.       ]], dtype=float32)]\n",
      "[array([[12.535025 ,  0.6905375, 15.3097925,  5.394405 ,  2.0752084,\n",
      "        15.36169  ,  2.2530465, -1.       ]], dtype=float32)]\n",
      "[array([[13.921799  ,  0.83160126, 13.733349  ,  6.6228604 ,  1.9105827 ,\n",
      "        14.877022  ,  2.2659247 , -1.        ]], dtype=float32)]\n",
      "[array([[12.703628  ,  0.68069816, 15.369104  ,  5.4809513 ,  1.8504581 ,\n",
      "        15.228639  ,  2.1277256 , -1.        ]], dtype=float32)]\n",
      "[array([[13.325934  ,  0.48449814, 14.913735  ,  4.2504454 ,  1.8118001 ,\n",
      "        16.167704  ,  1.9072496 , -1.        ]], dtype=float32)]"
     ]
    },
    {
     "name": "stderr",
     "output_type": "stream",
     "text": [
      "\r",
      "  3%|▎         | 1/30 [00:01<00:47,  1.63s/it]"
     ]
    },
    {
     "name": "stdout",
     "output_type": "stream",
     "text": [
      "\n",
      "[array([[ 0.      ,  0.      ,  0.      , -1.      ,  7.706062,  8.644832,\n",
      "        10.248209, 12.426103]], dtype=float32)]\n",
      "Total rewards for episode 0 is -4.950000073760748\n",
      "[array([[ 4.1899934, -0.3924   , 19.556175 , -1.       ,  7.623163 ,\n",
      "         8.690312 , 11.358073 , 11.290971 ]], dtype=float32)]\n",
      "[array([[ 2.1228652, -0.5886   , 19.887016 , -1.       ,  7.6339607,\n",
      "         8.65565  , 11.384626 , 11.243288 ]], dtype=float32)]\n",
      "[array([[ 2.1228652, -0.7848   , 19.887016 , -1.       ,  7.6447873,\n",
      "         8.620949 , 11.41123  , 11.195549 ]], dtype=float32)]\n",
      "[array([[ 2.1228652, -0.981    , 19.887016 , -1.       ,  7.6556416,\n",
      "         8.586209 , 11.437884 , 11.147753 ]], dtype=float32)]\n",
      "[array([[ 2.1228652, -1.1772   , 19.887016 , -1.       ,  7.7318764,\n",
      "         8.551433 , 11.464595 , 11.099899 ]], dtype=float32)]\n",
      "[array([[ 2.1228652, -1.3734   , 19.887016 , -1.       ,  7.7468553,\n",
      "         8.516619 , 11.491354 , 11.051988 ]], dtype=float32)]\n",
      "[array([[ 2.1228652, -1.5696   , 19.887016 , -1.       ,  7.834997 ,\n",
      "         8.606607 , 13.009522 , 10.174825 ]], dtype=float32)]\n",
      "[array([[ 0.03247886, -1.7658    , 19.999973  , -1.        ,  7.8186245 ,\n",
      "         8.40527   , 11.549844  , 10.902109  ]], dtype=float32)]\n",
      "[array([[ 2.1228652, -1.962    , 19.887016 , -1.       ,  7.8336964,\n",
      "         8.370343 , 11.574559 , 10.854027 ]], dtype=float32)]\n",
      "[array([[ 2.1228652, -2.1582   , 19.887016 , -1.       ,  7.8434806,\n",
      "         8.315381 , 11.182987 , 11.136041 ]], dtype=float32)]\n",
      "[array([[ 2.8156211, -2.3544   , 19.800816 , -1.       ,  7.886229 ,\n",
      "         8.293062 , 10.212472 , 12.322682 ]], dtype=float32)]\n",
      "[array([[ 4.8699436, -2.5505998, 19.398033 , -1.       ,  7.822003 ,\n",
      "         8.302865 , 10.422183 , 11.900335 ]], dtype=float32)]\n",
      "[array([[ 4.189994 , -2.7467997, 19.556175 , -1.       ,  7.8945804,\n",
      "         8.36503  ,  9.603402 , 14.192508 ]], dtype=float32)]\n",
      "[array([[ 6.211215 , -2.9429996, 19.01107  , -1.       ,  7.726883 ,\n",
      "         8.354016 , -1.       , 11.97365  ]], dtype=float32)]\n",
      "[array([[ 4.189994 , -3.1391995, 19.556175 , -1.       ,  7.687708 ,\n",
      "         8.392945 , 12.486909 , 10.8726845]], dtype=float32)]\n",
      "[array([[ 1.9219228 ,  0.08125186, 15.748127  , -1.        ,  7.6965737 ,\n",
      "         8.342473  , 12.491743  , 11.158353  ]], dtype=float32)]\n",
      "[array([[ 2.758964  ,  0.11479501, 19.527063  , -1.        ,  7.7016687 ,\n",
      "         8.308737  , 12.37066   , 11.493393  ]], dtype=float32)]\n",
      "[array([[ 3.4381387 ,  0.08457127, 19.498056  , -1.        ,  7.7023993 ,\n",
      "         8.298535  , -1.        , 12.569798  ]], dtype=float32)]"
     ]
    },
    {
     "name": "stderr",
     "output_type": "stream",
     "text": [
      "\r",
      "  3%|▎         | 1/30 [00:02<01:02,  2.16s/it]"
     ]
    },
    {
     "name": "stdout",
     "output_type": "stream",
     "text": [
      "\n",
      "[array([[ 4.116834  ,  0.09340023, 19.317686  , -1.        ,  7.7141533 ,\n",
      "         8.304884  , 11.273649  , 11.489602  ]], dtype=float32)]\n",
      "[array([[ 3.4226112,  0.1498695, 19.39212  , -1.       ,  7.7184916,\n",
      "         8.32253  , -1.       , 13.567028 ]], dtype=float32)]\n",
      "[array([[ 5.485211  ,  0.08728236, 19.064299  , -1.        ,  7.68555   ,\n",
      "         8.336347  , 10.950943  , 13.089554  ]], dtype=float32)]\n",
      "[array([[ 4.785292  ,  0.12843773, 19.121597  , -1.        ,  7.678856  ,\n",
      "         8.374339  , 10.796016  , 13.652592  ]], dtype=float32)]\n",
      "[array([[ 5.496711  ,  0.06100672, 19.067078  , -1.        ,  7.5651865 ,\n",
      "         8.380248  , 10.9468975 , 12.260998  ]], dtype=float32)]\n",
      "[array([[ 3.4757857e+00,  4.2470545e-03,  1.9524054e+01, -1.0000000e+00,\n",
      "         7.5764956e+00,  8.4367571e+00,  1.2132944e+01,  1.1192526e+01]],\n",
      "      dtype=float32)]\n",
      "[array([[ 1.4150003e+00, -2.2869498e-02,  1.9745502e+01,  2.9311846e+01,\n",
      "         7.7142100e+00,  8.5465784e+00,  1.4364538e+01,  9.7867527e+00]],\n",
      "      dtype=float32)]\n",
      "[array([[-0.65930676,  0.05914481, 19.652912  , 28.922132  ,  7.7870655 ,\n",
      "         8.454423  , 14.565546  ,  9.681482  ]], dtype=float32)]\n"
     ]
    },
    {
     "name": "stderr",
     "output_type": "stream",
     "text": [
      "\n"
     ]
    },
    {
     "ename": "TypeError",
     "evalue": "an integer is required (got type ActionTuple)",
     "output_type": "error",
     "traceback": [
      "\u001B[1;31m---------------------------------------------------------------------------\u001B[0m",
      "\u001B[1;31mTypeError\u001B[0m                                 Traceback (most recent call last)",
      "\u001B[1;32m<ipython-input-14-65e8df82fc85>\u001B[0m in \u001B[0;36m<module>\u001B[1;34m\u001B[0m\n\u001B[0;32m     49\u001B[0m \u001B[1;33m\u001B[0m\u001B[0m\n\u001B[0;32m     50\u001B[0m         \u001B[0magent\u001B[0m\u001B[1;33m.\u001B[0m\u001B[0mmemory\u001B[0m\u001B[1;33m.\u001B[0m\u001B[0mpush\u001B[0m\u001B[1;33m(\u001B[0m\u001B[1;33m(\u001B[0m\u001B[0mcurrent_state\u001B[0m\u001B[1;33m,\u001B[0m \u001B[0maction\u001B[0m\u001B[1;33m,\u001B[0m \u001B[0mreward\u001B[0m\u001B[1;33m,\u001B[0m \u001B[0mnext_state\u001B[0m\u001B[1;33m,\u001B[0m \u001B[0mdone\u001B[0m\u001B[1;33m)\u001B[0m\u001B[1;33m)\u001B[0m\u001B[1;33m\u001B[0m\u001B[1;33m\u001B[0m\u001B[0m\n\u001B[1;32m---> 51\u001B[1;33m         \u001B[0magent\u001B[0m\u001B[1;33m.\u001B[0m\u001B[0moptimize_model\u001B[0m\u001B[1;33m(\u001B[0m\u001B[1;33m)\u001B[0m\u001B[1;33m\u001B[0m\u001B[1;33m\u001B[0m\u001B[0m\n\u001B[0m\u001B[0;32m     52\u001B[0m \u001B[1;33m\u001B[0m\u001B[0m\n\u001B[0;32m     53\u001B[0m     \u001B[0mprint\u001B[0m\u001B[1;33m(\u001B[0m\u001B[1;34mf\"Total rewards for episode {episode} is {episode_rewards}\"\u001B[0m\u001B[1;33m)\u001B[0m\u001B[1;33m\u001B[0m\u001B[1;33m\u001B[0m\u001B[0m\n",
      "\u001B[1;32m~\\OneDrive - Louisiana State University\\MacBook\\Study\\7th Semester\\CSC 4444\\Code\\CSC4444_Unity\\dqn_brain.py\u001B[0m in \u001B[0;36moptimize_model\u001B[1;34m(self)\u001B[0m\n\u001B[0;32m    138\u001B[0m         \u001B[0mS0\u001B[0m\u001B[1;33m,\u001B[0m \u001B[0mA0\u001B[0m\u001B[1;33m,\u001B[0m \u001B[0mR1\u001B[0m\u001B[1;33m,\u001B[0m \u001B[0mS1\u001B[0m\u001B[1;33m,\u001B[0m \u001B[0mD1\u001B[0m \u001B[1;33m=\u001B[0m \u001B[0mzip\u001B[0m\u001B[1;33m(\u001B[0m\u001B[1;33m*\u001B[0m\u001B[0msamples\u001B[0m\u001B[1;33m)\u001B[0m\u001B[1;33m\u001B[0m\u001B[1;33m\u001B[0m\u001B[0m\n\u001B[0;32m    139\u001B[0m         \u001B[0mS0\u001B[0m \u001B[1;33m=\u001B[0m \u001B[0mtorch\u001B[0m\u001B[1;33m.\u001B[0m\u001B[0mtensor\u001B[0m\u001B[1;33m(\u001B[0m\u001B[0mS0\u001B[0m\u001B[1;33m,\u001B[0m \u001B[0mdtype\u001B[0m\u001B[1;33m=\u001B[0m\u001B[0mtorch\u001B[0m\u001B[1;33m.\u001B[0m\u001B[0mfloat\u001B[0m\u001B[1;33m,\u001B[0m \u001B[0mdevice\u001B[0m\u001B[1;33m=\u001B[0m\u001B[0mdevice\u001B[0m\u001B[1;33m)\u001B[0m\u001B[1;33m\u001B[0m\u001B[1;33m\u001B[0m\u001B[0m\n\u001B[1;32m--> 140\u001B[1;33m         \u001B[0mA0\u001B[0m \u001B[1;33m=\u001B[0m \u001B[0mtorch\u001B[0m\u001B[1;33m.\u001B[0m\u001B[0mtensor\u001B[0m\u001B[1;33m(\u001B[0m\u001B[0mA0\u001B[0m\u001B[1;33m,\u001B[0m \u001B[0mdtype\u001B[0m\u001B[1;33m=\u001B[0m\u001B[0mtorch\u001B[0m\u001B[1;33m.\u001B[0m\u001B[0mlong\u001B[0m\u001B[1;33m,\u001B[0m \u001B[0mdevice\u001B[0m\u001B[1;33m=\u001B[0m\u001B[0mdevice\u001B[0m\u001B[1;33m)\u001B[0m\u001B[1;33m.\u001B[0m\u001B[0mview\u001B[0m\u001B[1;33m(\u001B[0m\u001B[0mK\u001B[0m\u001B[1;33m,\u001B[0m \u001B[1;33m-\u001B[0m\u001B[1;36m1\u001B[0m\u001B[1;33m)\u001B[0m\u001B[1;33m\u001B[0m\u001B[1;33m\u001B[0m\u001B[0m\n\u001B[0m\u001B[0;32m    141\u001B[0m         \u001B[0mR1\u001B[0m \u001B[1;33m=\u001B[0m \u001B[0mtorch\u001B[0m\u001B[1;33m.\u001B[0m\u001B[0mtensor\u001B[0m\u001B[1;33m(\u001B[0m\u001B[0mR1\u001B[0m\u001B[1;33m,\u001B[0m \u001B[0mdtype\u001B[0m\u001B[1;33m=\u001B[0m\u001B[0mtorch\u001B[0m\u001B[1;33m.\u001B[0m\u001B[0mfloat\u001B[0m\u001B[1;33m,\u001B[0m \u001B[0mdevice\u001B[0m\u001B[1;33m=\u001B[0m\u001B[0mdevice\u001B[0m\u001B[1;33m)\u001B[0m\u001B[1;33m.\u001B[0m\u001B[0mview\u001B[0m\u001B[1;33m(\u001B[0m\u001B[0mK\u001B[0m\u001B[1;33m,\u001B[0m \u001B[1;33m-\u001B[0m\u001B[1;36m1\u001B[0m\u001B[1;33m)\u001B[0m\u001B[1;33m\u001B[0m\u001B[1;33m\u001B[0m\u001B[0m\n\u001B[0;32m    142\u001B[0m         \u001B[0mS1\u001B[0m \u001B[1;33m=\u001B[0m \u001B[0mtorch\u001B[0m\u001B[1;33m.\u001B[0m\u001B[0mtensor\u001B[0m\u001B[1;33m(\u001B[0m\u001B[0mS1\u001B[0m\u001B[1;33m,\u001B[0m \u001B[0mdtype\u001B[0m\u001B[1;33m=\u001B[0m\u001B[0mtorch\u001B[0m\u001B[1;33m.\u001B[0m\u001B[0mfloat\u001B[0m\u001B[1;33m,\u001B[0m \u001B[0mdevice\u001B[0m\u001B[1;33m=\u001B[0m\u001B[0mdevice\u001B[0m\u001B[1;33m)\u001B[0m\u001B[1;33m\u001B[0m\u001B[1;33m\u001B[0m\u001B[0m\n",
      "\u001B[1;31mTypeError\u001B[0m: an integer is required (got type ActionTuple)"
     ]
    }
   ],
   "source": [
    "from dqn_brain import DQNAgent\n",
    "from tqdm import tqdm\n",
    "\n",
    "agent = DQNAgent()\n",
    "\n",
    "for episode in tqdm(range(30)):\n",
    "    env.reset()\n",
    "    decision_steps, terminal_steps = env.get_steps(behavior_name)\n",
    "    current_state = decision_steps.obs[0].reshape(8,)\n",
    "    tracked_agent = -1 # -1 indicates not yet tracking\n",
    "    done = False # For the tracked_agent\n",
    "    episode_rewards = 0 # For the tracked_agent\n",
    "\n",
    "    agent.epsilon = agent.epsilon * agent.epsilon_decay\n",
    "\n",
    "    while not done:\n",
    "        # Track the first agent we see if not tracking\n",
    "        # Note : len(decision_steps) = [number of agents that requested a decision]\n",
    "        if tracked_agent == -1 and len(decision_steps) >= 1:\n",
    "            tracked_agent = decision_steps.agent_id[0]\n",
    "\n",
    "        # Generate an action for all agents\n",
    "        # action = spec.action_spec.random_action(len(decision_steps))\n",
    "        chosen_action_int = agent.select_action(current_state).item()\n",
    "        # action = spec.action_spec.empty_action(len(decision_steps))\n",
    "        action.add_continuous(np.array([[agent.index_to_action(chosen_action_int)]]))\n",
    "\n",
    "        # Set the actions\n",
    "        env.set_actions(behavior_name, action)\n",
    "        # Move the simulation forward\n",
    "        env.step()\n",
    "        # Get the new simulation results\n",
    "        decision_steps, terminal_steps = env.get_steps(behavior_name)\n",
    "        print(decision_steps.obs)\n",
    "\n",
    "        next_state = decision_steps.obs[0].reshape(8,)\n",
    "\n",
    "        # print(decision_steps.obs)\n",
    "        reward = 0\n",
    "        if tracked_agent in decision_steps: # The agent requested a decision\n",
    "            reward = decision_steps[tracked_agent].reward\n",
    "            done = False\n",
    "#             print(decision_steps[tracked_agent].reward)\n",
    "        if tracked_agent in terminal_steps: # The agent terminated its episode\n",
    "            reward = terminal_steps[tracked_agent].reward\n",
    "#             print(terminal_steps[tracked_agent].reward)\n",
    "            done = True\n",
    "        episode_rewards += reward\n",
    "\n",
    "        agent.memory.push((current_state, action, reward, next_state, done))\n",
    "        agent.optimize_model()\n",
    "\n",
    "    print(f\"Total rewards for episode {episode} is {episode_rewards}\")"
   ]
  },
  {
   "cell_type": "code",
   "execution_count": 16,
   "metadata": {},
   "outputs": [],
   "source": [
    "env.reset()"
   ]
  },
  {
   "cell_type": "code",
   "execution_count": 29,
   "metadata": {},
   "outputs": [
    {
     "name": "stdout",
     "output_type": "stream",
     "text": [
      "[]\n",
      "[[-0.3807651]]\n"
     ]
    }
   ],
   "source": [
    "decision_steps, terminal_steps = env.get_steps(behavior_name)\n",
    "action = spec.action_spec.random_action(len(decision_steps))\n",
    "print(action.discrete)\n",
    "print(action.continuous)"
   ]
  },
  {
   "cell_type": "code",
   "execution_count": 30,
   "metadata": {
    "pycharm": {
     "name": "#%%\n"
    }
   },
   "outputs": [
    {
     "name": "stdout",
     "output_type": "stream",
     "text": [
      "[]\n",
      "[[0.]]\n"
     ]
    }
   ],
   "source": [
    "decision_steps, terminal_steps = env.get_steps(behavior_name)\n",
    "# action = spec.action_spec.random_action(len(decision_steps))\n",
    "action = spec.action_spec.empty_action(len(decision_steps))\n",
    "action.add_continuous(np.array([[0]]))\n",
    "print(action.discrete)\n",
    "print(action.continuous)"
   ]
  },
  {
   "cell_type": "code",
   "execution_count": 13,
   "metadata": {
    "pycharm": {
     "name": "#%%\n"
    }
   },
   "outputs": [],
   "source": [
    "env.close()\n"
   ]
  }
 ],
 "metadata": {
  "interpreter": {
   "hash": "fe44fef87f92f48a3a32707d0df204585f471652bc0ce87358a3ce712bc24db0"
  },
  "kernelspec": {
   "display_name": "Python 3",
   "language": "python",
   "name": "python3"
  },
  "language_info": {
   "codemirror_mode": {
    "name": "ipython",
    "version": 3
   },
   "file_extension": ".py",
   "mimetype": "text/x-python",
   "name": "python",
   "nbconvert_exporter": "python",
   "pygments_lexer": "ipython3",
   "version": "3.6.13"
  }
 },
 "nbformat": 4,
 "nbformat_minor": 2
}