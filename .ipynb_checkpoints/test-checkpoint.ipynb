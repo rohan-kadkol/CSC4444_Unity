{
 "cells": [
  {
   "cell_type": "code",
   "execution_count": 2,
   "metadata": {
    "pycharm": {
     "is_executing": true
    }
   },
   "outputs": [],
   "source": [
    "import mlagents\n",
    "import random\n",
    "import numpy as np\n",
    "from mlagents_envs.environment import UnityEnvironment as UE"
   ]
  },
  {
   "cell_type": "code",
   "execution_count": 3,
   "metadata": {},
   "outputs": [],
   "source": [
    "env = UE(file_name=\"4444_project\",seed=1,side_channels=[])\n",
    "env.reset()"
   ]
  },
  {
   "cell_type": "code",
   "execution_count": 4,
   "metadata": {},
   "outputs": [
    {
     "name": "stdout",
     "output_type": "stream",
     "text": [
      "['CarBehavior?team=0']\n",
      "CarBehavior?team=0\n"
     ]
    }
   ],
   "source": [
    "print(list(env.behavior_specs))\n",
    "behavior_name = list(env.behavior_specs)[0]\n",
    "print(behavior_name)"
   ]
  },
  {
   "cell_type": "code",
   "execution_count": 5,
   "metadata": {},
   "outputs": [
    {
     "name": "stdout",
     "output_type": "stream",
     "text": [
      "<class 'mlagents_envs.base_env.BehaviorSpec'>\n",
      "\n",
      "BehaviorSpec(observation_specs=[ObservationSpec(shape=(8,), dimension_property=(<DimensionProperty.NONE: 1>,), observation_type=<ObservationType.DEFAULT: 0>, name='VectorSensor_size8')], action_spec=ActionSpec(continuous_size=1, discrete_branches=()))\n"
     ]
    }
   ],
   "source": [
    "print(type(env.behavior_specs[behavior_name]))\n",
    "print()\n",
    "print(env.behavior_specs[behavior_name])\n",
    "spec = env.behavior_specs[behavior_name]"
   ]
  },
  {
   "cell_type": "code",
   "execution_count": 6,
   "metadata": {},
   "outputs": [
    {
     "name": "stdout",
     "output_type": "stream",
     "text": [
      "<class 'list'>\n",
      "\n",
      "<class 'tuple'>\n",
      "ObservationSpec(shape=(8,), dimension_property=(<DimensionProperty.NONE: 1>,), observation_type=<ObservationType.DEFAULT: 0>, name='VectorSensor_size8')\n"
     ]
    }
   ],
   "source": [
    "print(type(spec.observation_specs))\n",
    "print()\n",
    "print(type(tuple(spec.observation_specs[0])))\n",
    "print(spec.observation_specs[0])"
   ]
  },
  {
   "cell_type": "code",
   "execution_count": 7,
   "metadata": {},
   "outputs": [
    {
     "name": "stdout",
     "output_type": "stream",
     "text": [
      "<class 'mlagents_envs.base_env.ActionSpec'>\n",
      "\n",
      "Continuous: 1, Discrete: ()\n"
     ]
    }
   ],
   "source": [
    "print(type(spec.action_spec))\n",
    "print()\n",
    "print(spec.action_spec)"
   ]
  },
  {
   "cell_type": "code",
   "execution_count": 8,
   "metadata": {},
   "outputs": [],
   "source": [
    "decision_steps, terminal_steps = env.get_steps(behavior_name)"
   ]
  },
  {
   "cell_type": "code",
   "execution_count": 9,
   "metadata": {},
   "outputs": [
    {
     "name": "stdout",
     "output_type": "stream",
     "text": [
      "<mlagents_envs.base_env.DecisionSteps object at 0x0000026EC3CA5518>\n",
      "[0]\n"
     ]
    }
   ],
   "source": [
    "print(decision_steps)\n",
    "print(list(decision_steps))"
   ]
  },
  {
   "cell_type": "code",
   "execution_count": 10,
   "metadata": {},
   "outputs": [
    {
     "name": "stdout",
     "output_type": "stream",
     "text": [
      "<class 'numpy.ndarray'>\n"
     ]
    }
   ],
   "source": [
    "tracked_agent = -1\n",
    "done = False\n",
    "episode_rewards = 0\n",
    "\n",
    "print(type(decision_steps.agent_id))\n",
    "tracked_agent = decision_steps.agent_id[0]"
   ]
  },
  {
   "cell_type": "code",
   "execution_count": 11,
   "metadata": {},
   "outputs": [
    {
     "name": "stdout",
     "output_type": "stream",
     "text": [
      "<mlagents_envs.base_env.ActionTuple object at 0x0000026EC3879630>\n",
      "<class 'numpy.ndarray'>\n",
      "[]\n"
     ]
    }
   ],
   "source": [
    "action = spec.action_spec.random_action(len(decision_steps))\n",
    "print(action)\n",
    "print(type(action.discrete))\n",
    "print(action.discrete)\n",
    "# action = action.continuous"
   ]
  },
  {
   "cell_type": "code",
   "execution_count": 12,
   "metadata": {},
   "outputs": [],
   "source": [
    "env.set_actions(behavior_name, action)"
   ]
  },
  {
   "cell_type": "code",
   "execution_count": 13,
   "metadata": {},
   "outputs": [
    {
     "name": "stderr",
     "output_type": "stream",
     "text": [
      "  0%|          | 1/1000 [00:00<16:38,  1.00it/s]"
     ]
    },
    {
     "name": "stdout",
     "output_type": "stream",
     "text": [
      "Total rewards for episode 0 is -5.100000075995922\n"
     ]
    },
    {
     "name": "stderr",
     "output_type": "stream",
     "text": [
      "C:\\Users\\Rohan Kadkol\\OneDrive - Louisiana State University\\MacBook\\Study\\7th Semester\\CSC 4444\\Code\\CSC4444_Unity\\dqn_brain.py:136: UserWarning: Creating a tensor from a list of numpy.ndarrays is extremely slow. Please consider converting the list to a single numpy.ndarray with numpy.array() before converting to a tensor. (Triggered internally at  ..\\torch\\csrc\\utils\\tensor_new.cpp:201.)\n",
      "  S0 = torch.tensor(S0, dtype=torch.float, device=device)\n",
      "  0%|          | 1/1000 [00:01<24:00,  1.44s/it]\n"
     ]
    },
    {
     "ename": "TypeError",
     "evalue": "an integer is required (got type ActionTuple)",
     "output_type": "error",
     "traceback": [
      "\u001b[1;31m---------------------------------------------------------------------------\u001b[0m",
      "\u001b[1;31mTypeError\u001b[0m                                 Traceback (most recent call last)",
      "\u001b[1;32m<ipython-input-13-f894707cbc8e>\u001b[0m in \u001b[0;36m<module>\u001b[1;34m\u001b[0m\n\u001b[0;32m     48\u001b[0m \u001b[1;33m\u001b[0m\u001b[0m\n\u001b[0;32m     49\u001b[0m         \u001b[0magent\u001b[0m\u001b[1;33m.\u001b[0m\u001b[0mmemory\u001b[0m\u001b[1;33m.\u001b[0m\u001b[0mpush\u001b[0m\u001b[1;33m(\u001b[0m\u001b[1;33m(\u001b[0m\u001b[0mcurrent_state\u001b[0m\u001b[1;33m,\u001b[0m \u001b[0maction\u001b[0m\u001b[1;33m,\u001b[0m \u001b[0mreward\u001b[0m\u001b[1;33m,\u001b[0m \u001b[0mnext_state\u001b[0m\u001b[1;33m,\u001b[0m \u001b[0mdone\u001b[0m\u001b[1;33m)\u001b[0m\u001b[1;33m)\u001b[0m\u001b[1;33m\u001b[0m\u001b[1;33m\u001b[0m\u001b[0m\n\u001b[1;32m---> 50\u001b[1;33m         \u001b[0magent\u001b[0m\u001b[1;33m.\u001b[0m\u001b[0moptimize_model\u001b[0m\u001b[1;33m(\u001b[0m\u001b[1;33m)\u001b[0m\u001b[1;33m\u001b[0m\u001b[1;33m\u001b[0m\u001b[0m\n\u001b[0m\u001b[0;32m     51\u001b[0m \u001b[1;33m\u001b[0m\u001b[0m\n\u001b[0;32m     52\u001b[0m     \u001b[0mprint\u001b[0m\u001b[1;33m(\u001b[0m\u001b[1;34mf\"Total rewards for episode {episode} is {episode_rewards}\"\u001b[0m\u001b[1;33m)\u001b[0m\u001b[1;33m\u001b[0m\u001b[1;33m\u001b[0m\u001b[0m\n",
      "\u001b[1;32m~\\OneDrive - Louisiana State University\\MacBook\\Study\\7th Semester\\CSC 4444\\Code\\CSC4444_Unity\\dqn_brain.py\u001b[0m in \u001b[0;36moptimize_model\u001b[1;34m(self)\u001b[0m\n\u001b[0;32m    135\u001b[0m         \u001b[0mS0\u001b[0m\u001b[1;33m,\u001b[0m \u001b[0mA0\u001b[0m\u001b[1;33m,\u001b[0m \u001b[0mR1\u001b[0m\u001b[1;33m,\u001b[0m \u001b[0mS1\u001b[0m\u001b[1;33m,\u001b[0m \u001b[0mD1\u001b[0m \u001b[1;33m=\u001b[0m \u001b[0mzip\u001b[0m\u001b[1;33m(\u001b[0m\u001b[1;33m*\u001b[0m\u001b[0msamples\u001b[0m\u001b[1;33m)\u001b[0m\u001b[1;33m\u001b[0m\u001b[1;33m\u001b[0m\u001b[0m\n\u001b[0;32m    136\u001b[0m         \u001b[0mS0\u001b[0m \u001b[1;33m=\u001b[0m \u001b[0mtorch\u001b[0m\u001b[1;33m.\u001b[0m\u001b[0mtensor\u001b[0m\u001b[1;33m(\u001b[0m\u001b[0mS0\u001b[0m\u001b[1;33m,\u001b[0m \u001b[0mdtype\u001b[0m\u001b[1;33m=\u001b[0m\u001b[0mtorch\u001b[0m\u001b[1;33m.\u001b[0m\u001b[0mfloat\u001b[0m\u001b[1;33m,\u001b[0m \u001b[0mdevice\u001b[0m\u001b[1;33m=\u001b[0m\u001b[0mdevice\u001b[0m\u001b[1;33m)\u001b[0m\u001b[1;33m\u001b[0m\u001b[1;33m\u001b[0m\u001b[0m\n\u001b[1;32m--> 137\u001b[1;33m         \u001b[0mA0\u001b[0m \u001b[1;33m=\u001b[0m \u001b[0mtorch\u001b[0m\u001b[1;33m.\u001b[0m\u001b[0mtensor\u001b[0m\u001b[1;33m(\u001b[0m\u001b[0mA0\u001b[0m\u001b[1;33m,\u001b[0m \u001b[0mdtype\u001b[0m\u001b[1;33m=\u001b[0m\u001b[0mtorch\u001b[0m\u001b[1;33m.\u001b[0m\u001b[0mlong\u001b[0m\u001b[1;33m,\u001b[0m \u001b[0mdevice\u001b[0m\u001b[1;33m=\u001b[0m\u001b[0mdevice\u001b[0m\u001b[1;33m)\u001b[0m\u001b[1;33m.\u001b[0m\u001b[0mview\u001b[0m\u001b[1;33m(\u001b[0m\u001b[0mK\u001b[0m\u001b[1;33m,\u001b[0m \u001b[1;33m-\u001b[0m\u001b[1;36m1\u001b[0m\u001b[1;33m)\u001b[0m\u001b[1;33m\u001b[0m\u001b[1;33m\u001b[0m\u001b[0m\n\u001b[0m\u001b[0;32m    138\u001b[0m         \u001b[0mR1\u001b[0m \u001b[1;33m=\u001b[0m \u001b[0mtorch\u001b[0m\u001b[1;33m.\u001b[0m\u001b[0mtensor\u001b[0m\u001b[1;33m(\u001b[0m\u001b[0mR1\u001b[0m\u001b[1;33m,\u001b[0m \u001b[0mdtype\u001b[0m\u001b[1;33m=\u001b[0m\u001b[0mtorch\u001b[0m\u001b[1;33m.\u001b[0m\u001b[0mfloat\u001b[0m\u001b[1;33m,\u001b[0m \u001b[0mdevice\u001b[0m\u001b[1;33m=\u001b[0m\u001b[0mdevice\u001b[0m\u001b[1;33m)\u001b[0m\u001b[1;33m.\u001b[0m\u001b[0mview\u001b[0m\u001b[1;33m(\u001b[0m\u001b[0mK\u001b[0m\u001b[1;33m,\u001b[0m \u001b[1;33m-\u001b[0m\u001b[1;36m1\u001b[0m\u001b[1;33m)\u001b[0m\u001b[1;33m\u001b[0m\u001b[1;33m\u001b[0m\u001b[0m\n\u001b[0;32m    139\u001b[0m         \u001b[0mS1\u001b[0m \u001b[1;33m=\u001b[0m \u001b[0mtorch\u001b[0m\u001b[1;33m.\u001b[0m\u001b[0mtensor\u001b[0m\u001b[1;33m(\u001b[0m\u001b[0mS1\u001b[0m\u001b[1;33m,\u001b[0m \u001b[0mdtype\u001b[0m\u001b[1;33m=\u001b[0m\u001b[0mtorch\u001b[0m\u001b[1;33m.\u001b[0m\u001b[0mfloat\u001b[0m\u001b[1;33m,\u001b[0m \u001b[0mdevice\u001b[0m\u001b[1;33m=\u001b[0m\u001b[0mdevice\u001b[0m\u001b[1;33m)\u001b[0m\u001b[1;33m\u001b[0m\u001b[1;33m\u001b[0m\u001b[0m\n",
      "\u001b[1;31mTypeError\u001b[0m: an integer is required (got type ActionTuple)"
     ]
    }
   ],
   "source": [
    "from dqn_brain import DQNAgent\n",
    "from tqdm import tqdm\n",
    "\n",
    "agent = DQNAgent()\n",
    "\n",
    "for episode in tqdm(range(1000)):\n",
    "    env.reset()\n",
    "    decision_steps, terminal_steps = env.get_steps(behavior_name)\n",
    "    current_state = decision_steps.obs[0].reshape(8,)\n",
    "    tracked_agent = -1 # -1 indicates not yet tracking\n",
    "    done = False # For the tracked_agent\n",
    "    episode_rewards = 0 # For the tracked_agent\n",
    "\n",
    "    agent.epsilon = agent.epsilon * agent.epsilon_decay\n",
    "\n",
    "    while not done:\n",
    "        # Track the first agent we see if not tracking\n",
    "        # Note : len(decision_steps) = [number of agents that requested a decision]\n",
    "        if tracked_agent == -1 and len(decision_steps) >= 1:\n",
    "            tracked_agent = decision_steps.agent_id[0]\n",
    "\n",
    "        # Generate an action for all agents\n",
    "        # action = spec.action_spec.random_action(len(decision_steps))\n",
    "        chosen_action_int = agent.select_action(current_state).item()\n",
    "        # action = spec.action_spec.empty_action(len(decision_steps))\n",
    "        action.add_continuous(np.array([[agent.index_to_action(chosen_action_int)]]))\n",
    "\n",
    "        # Set the actions\n",
    "        env.set_actions(behavior_name, action)\n",
    "        # Move the simulation forward\n",
    "        env.step()\n",
    "        # Get the new simulation results\n",
    "        decision_steps, terminal_steps = env.get_steps(behavior_name)\n",
    "\n",
    "        next_state = decision_steps.obs[0].reshape(8,)\n",
    "\n",
    "        # print(decision_steps.obs)\n",
    "        reward = 0\n",
    "        if tracked_agent in decision_steps: # The agent requested a decision\n",
    "            reward = decision_steps[tracked_agent].reward\n",
    "            done = False\n",
    "#             print(decision_steps[tracked_agent].reward)\n",
    "        if tracked_agent in terminal_steps: # The agent terminated its episode\n",
    "            reward = terminal_steps[tracked_agent].reward\n",
    "#             print(terminal_steps[tracked_agent].reward)\n",
    "            done = True\n",
    "        episode_rewards += reward\n",
    "\n",
    "        agent.memory.push((current_state, action, reward, next_state, done))\n",
    "        agent.optimize_model()\n",
    "\n",
    "    print(f\"Total rewards for episode {episode} is {episode_rewards}\")"
   ]
  },
  {
   "cell_type": "code",
   "execution_count": 16,
   "metadata": {},
   "outputs": [],
   "source": [
    "env.reset()"
   ]
  },
  {
   "cell_type": "code",
   "execution_count": 29,
   "metadata": {},
   "outputs": [
    {
     "name": "stdout",
     "output_type": "stream",
     "text": [
      "[]\n",
      "[[-0.3807651]]\n"
     ]
    }
   ],
   "source": [
    "decision_steps, terminal_steps = env.get_steps(behavior_name)\n",
    "action = spec.action_spec.random_action(len(decision_steps))\n",
    "print(action.discrete)\n",
    "print(action.continuous)"
   ]
  },
  {
   "cell_type": "code",
   "execution_count": 30,
   "metadata": {
    "pycharm": {
     "name": "#%%\n"
    }
   },
   "outputs": [
    {
     "name": "stdout",
     "output_type": "stream",
     "text": [
      "[]\n",
      "[[0.]]\n"
     ]
    }
   ],
   "source": [
    "decision_steps, terminal_steps = env.get_steps(behavior_name)\n",
    "# action = spec.action_spec.random_action(len(decision_steps))\n",
    "action = spec.action_spec.empty_action(len(decision_steps))\n",
    "action.add_continuous(np.array([[0]]))\n",
    "print(action.discrete)\n",
    "print(action.continuous)"
   ]
  },
  {
   "cell_type": "code",
   "execution_count": 13,
   "metadata": {
    "pycharm": {
     "name": "#%%\n"
    }
   },
   "outputs": [],
   "source": [
    "env.close()\n"
   ]
  }
 ],
 "metadata": {
  "interpreter": {
   "hash": "fe44fef87f92f48a3a32707d0df204585f471652bc0ce87358a3ce712bc24db0"
  },
  "kernelspec": {
   "display_name": "Python 3",
   "language": "python",
   "name": "python3"
  },
  "language_info": {
   "codemirror_mode": {
    "name": "ipython",
    "version": 3
   },
   "file_extension": ".py",
   "mimetype": "text/x-python",
   "name": "python",
   "nbconvert_exporter": "python",
   "pygments_lexer": "ipython3",
   "version": "3.6.13"
  }
 },
 "nbformat": 4,
 "nbformat_minor": 2
}
